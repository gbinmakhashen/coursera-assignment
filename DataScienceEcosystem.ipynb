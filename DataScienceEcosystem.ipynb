{
  "metadata": {
    "kernelspec": {
      "name": "python",
      "display_name": "Python (Pyodide)",
      "language": "python"
    },
    "language_info": {
      "codemirror_mode": {
        "name": "python",
        "version": 3
      },
      "file_extension": ".py",
      "mimetype": "text/x-python",
      "name": "python",
      "nbconvert_exporter": "python",
      "pygments_lexer": "ipython3",
      "version": "3.8"
    }
  },
  "nbformat_minor": 5,
  "nbformat": 4,
  "cells": [
    {
      "id": "49342930-1771-4953-9d38-9ba89e468ccb",
      "cell_type": "markdown",
      "source": "<center>\n    <img src=\"https://cf-courses-data.s3.us.cloud-object-storage.appdomain.cloud/IBMDeveloperSkillsNetwork-DS0105EN-SkillsNetwork/labs/Module2/images/SN_web_lightmode.png\" width=\"300\" alt=\"cognitiveclass.ai logo\">\n</center>\n",
      "metadata": {}
    },
    {
      "id": "fa37c0fb-2166-43e5-985b-b4a0ffd52caf",
      "cell_type": "markdown",
      "source": "# Data Science Tools and Ecosystem",
      "metadata": {}
    },
    {
      "id": "dd1cc639-1e38-4d6b-9561-9cc6622de022",
      "cell_type": "markdown",
      "source": "## Author \nGalal M. Bin Makhashen",
      "metadata": {
        "jp-MarkdownHeadingCollapsed": true
      }
    },
    {
      "id": "eb7bfcdb-d859-46f5-a4f3-da3ead36721f",
      "cell_type": "markdown",
      "source": "## Introdcution\n\nIn this notebook, Data Science Tools and Ecosystem are summarized.",
      "metadata": {}
    },
    {
      "id": "33caa09f-35cf-4e0a-ab15-a6fc54dc1e63",
      "cell_type": "markdown",
      "source": "**Objectives:**\n\n\n- Learn about Data Science task categorize such as Data Managment, Data integration and transformation, data visualization,  model building,  model deployment\n- List popular Commercial Tools for Data Science\n- List popular languages for Data Science\n",
      "metadata": {},
      "attachments": {}
    },
    {
      "id": "994d1740-5a57-453d-b26c-8a8823a53db6",
      "cell_type": "markdown",
      "source": "\nSome of the popular languages that Data Scientists use are:\n\n1. Python\n2. R\n3. SQL\n4. Julia\n5. Scala\n   ",
      "metadata": {}
    },
    {
      "id": "7d1447f2-5e22-4da6-966b-2de1837f9ef3",
      "cell_type": "markdown",
      "source": "Some of the commonly used libraries used by Data Scientists include:\n1. Pandas\n2. Numpy\n3. Scikit Learn\n4. Matplotlib\n5. Seaborn\n6. Tensorflow\n7. Keras\n\n\n",
      "metadata": {}
    },
    {
      "id": "50ba0367-782b-4c6e-ae25-b6059f8ec9d7",
      "cell_type": "markdown",
      "source": "## Data Science Open-Source Development Tools",
      "metadata": {}
    },
    {
      "id": "533c0a6a-1ea8-4fd6-be4f-d16dcc998266",
      "cell_type": "markdown",
      "source": "\n\n| Data Science Tools |\n|-------------------|\n| Jupyter Lab        |\n| VS Code       |\n|  Apache Zeppelin      |\n|RStudio|\n\n",
      "metadata": {},
      "attachments": {}
    },
    {
      "id": "ffe1ff9b-d705-4022-81ae-ecb9ef27bd1f",
      "cell_type": "markdown",
      "source": "### Below are a few examples of evaluating arithmetic expressions in Python",
      "metadata": {},
      "attachments": {}
    },
    {
      "id": "f7c01047-f5c4-4ea4-a3da-4b37ac7e4490",
      "cell_type": "code",
      "source": "# This a simple arithmetic expression to mutiply then add integers\n(3*4)+5",
      "metadata": {
        "trusted": true
      },
      "outputs": [
        {
          "execution_count": 1,
          "output_type": "execute_result",
          "data": {
            "text/plain": "17"
          },
          "metadata": {}
        }
      ],
      "execution_count": 1
    },
    {
      "id": "13d4ce51-1275-40e0-964f-71153ba128e0",
      "cell_type": "code",
      "source": "# This will convert 200 minutes to hours by diving by 60\nminutes = 200\nhours = minutes/60\nprint(f'hours = {hours:.3}')",
      "metadata": {
        "trusted": true
      },
      "outputs": [
        {
          "name": "stdout",
          "output_type": "stream",
          "text": "hours = 3.33\n"
        }
      ],
      "execution_count": 11
    },
    {
      "id": "2f028c36-b343-4fcb-9e76-f7142c041396",
      "cell_type": "code",
      "source": "",
      "metadata": {
        "trusted": true
      },
      "outputs": [],
      "execution_count": null
    }
  ]
}